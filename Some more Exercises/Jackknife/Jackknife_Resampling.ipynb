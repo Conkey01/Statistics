{
 "cells": [
  {
   "cell_type": "code",
   "execution_count": 6,
   "id": "0e24ef7c-f195-467a-8d76-413646144104",
   "metadata": {},
   "outputs": [
    {
     "name": "stdout",
     "output_type": "stream",
     "text": [
      "Estimate of variance without Bessel Correction:  4.550229914869617\n",
      "Estimate of variance with Bessel Correction:     4.5616483265867425\n",
      "Estiamate of bias:\n",
      "   jackknife: -0.017533285542813637\n",
      "Bias-corrected estimate:\n",
      "   jackknife: 4.567763200412401\n"
     ]
    }
   ],
   "source": [
    "import numpy as np\n",
    "np.random.seed(1)\n",
    "from resample import jackknife, bootstrap\n",
    "\n",
    "x = np.random.normal(1, 5, size=200)\n",
    "\n",
    "# biased standard deviation\n",
    "sdev = np.std( x )\n",
    "\n",
    "# unbiased standard deviation\n",
    "sdevc = np.std( x, ddof=1 )\n",
    "\n",
    "# jackknife \n",
    "jk_bias = jackknife.bias( np.std, x )\n",
    "jk_std = jackknife.bias_corrected( np.std, x )\n",
    "\n",
    "# bootstrap\n",
    "#bt_bias = bootstrap.bias( np.std, x, size=5000 )\n",
    "#bt_std = bootstrap.bias_corrected( np.std, x, size=5000 )\n",
    "\n",
    "print('Estimate of variance without Bessel Correction: ', sdev )\n",
    "print('Estimate of variance with Bessel Correction:    ', sdevc )\n",
    "print('Estiamate of bias:')\n",
    "print('   jackknife:', jk_bias )\n",
    "#print('   bootstrap:', bt_bias )\n",
    "print('Bias-corrected estimate:')\n",
    "print('   jackknife:', jk_std )\n",
    "#print('   bootstrap:', bt_std )"
   ]
  },
  {
   "cell_type": "code",
   "execution_count": null,
   "id": "a2899f2a-dbaf-4a38-bec9-3a56ef896201",
   "metadata": {},
   "outputs": [],
   "source": []
  }
 ],
 "metadata": {
  "kernelspec": {
   "display_name": "Python 3 (ipykernel)",
   "language": "python",
   "name": "python3"
  },
  "language_info": {
   "codemirror_mode": {
    "name": "ipython",
    "version": 3
   },
   "file_extension": ".py",
   "mimetype": "text/x-python",
   "name": "python",
   "nbconvert_exporter": "python",
   "pygments_lexer": "ipython3",
   "version": "3.10.13"
  }
 },
 "nbformat": 4,
 "nbformat_minor": 5
}
